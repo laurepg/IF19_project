{
 "cells": [
  {
   "cell_type": "markdown",
   "metadata": {},
   "source": [
    "# Algorithme SVM"
   ]
  },
  {
   "cell_type": "markdown",
   "metadata": {},
   "source": [
    "## Importation des librairies"
   ]
  },
  {
   "cell_type": "code",
   "execution_count": 34,
   "metadata": {},
   "outputs": [],
   "source": [
    "import pandas as pd\n",
    "import numpy as np\n",
    "from pymongo import MongoClient\n",
    "\n",
    "from sklearn.preprocessing  import StandardScaler\n",
    "from sklearn.model_selection import train_test_split\n",
    "from sklearn.svm import SVC\n",
    "from sklearn.metrics import accuracy_score, confusion_matrix\n",
    "\n",
    "from matplotlib import pyplot as plt\n",
    "import seaborn as sns"
   ]
  },
  {
   "cell_type": "markdown",
   "metadata": {},
   "source": [
    "## Chargement des données"
   ]
  },
  {
   "cell_type": "code",
   "execution_count": 35,
   "metadata": {},
   "outputs": [],
   "source": [
    "from bdd import ConnexionMongoDB\n",
    "\n",
    "# Connexion à la base de données\n",
    "conn = ConnexionMongoDB()\n",
    "# Récupération des données\n",
    "data = conn.labelsWithUserData()"
   ]
  },
  {
   "cell_type": "markdown",
   "metadata": {},
   "source": [
    "## Préparation des données"
   ]
  },
  {
   "cell_type": "code",
   "execution_count": 36,
   "metadata": {},
   "outputs": [
    {
     "name": "stdout",
     "output_type": "stream",
     "text": [
      "<class 'pandas.core.frame.DataFrame'>\n",
      "RangeIndex: 1502 entries, 0 to 1501\n",
      "Data columns (total 8 columns):\n",
      " #   Column       Non-Null Count  Dtype \n",
      "---  ------       --------------  ----- \n",
      " 0   agressivity  1502 non-null   object\n",
      " 1   avgHashtag   1502 non-null   object\n",
      " 2   avgMention   1502 non-null   object\n",
      " 3   avgUrls      1502 non-null   object\n",
      " 4   ftweets      1502 non-null   object\n",
      " 5   nbtweet      1502 non-null   object\n",
      " 6   ratio        1502 non-null   object\n",
      " 7   visibility   1502 non-null   object\n",
      "dtypes: object(8)\n",
      "memory usage: 94.0+ KB\n"
     ]
    }
   ],
   "source": [
    "X = data.drop('label', axis=1)  # Features\n",
    "y = data['label']  # Target variable\n",
    "\n",
    "# Print features and target variables to verify\n",
    "X.info()"
   ]
  },
  {
   "cell_type": "code",
   "execution_count": 37,
   "metadata": {},
   "outputs": [],
   "source": [
    "X['agressivity'] = pd.to_numeric(X['agressivity'], errors='coerce')\n",
    "X['avgHashtag'] = pd.to_numeric(X['avgHashtag'], errors='coerce')\n",
    "X['avgMention'] = pd.to_numeric(X['avgMention'], errors='coerce')\n",
    "X['avgUrls'] = pd.to_numeric(X['avgUrls'], errors='coerce')\n",
    "X['ftweets'] = pd.to_numeric(X['ftweets'], errors='coerce')\n",
    "X['nbtweet'] = pd.to_numeric(X['nbtweet'], errors='coerce')\n",
    "X['ratio'] = pd.to_numeric(X['ratio'], errors='coerce')\n",
    "X['visibility'] = pd.to_numeric(X['visibility'], errors='coerce')\n",
    "X.fillna(0, inplace=True)"
   ]
  },
  {
   "cell_type": "code",
   "execution_count": 38,
   "metadata": {},
   "outputs": [
    {
     "name": "stdout",
     "output_type": "stream",
     "text": [
      "<class 'pandas.core.frame.DataFrame'>\n",
      "RangeIndex: 1502 entries, 0 to 1501\n",
      "Data columns (total 8 columns):\n",
      " #   Column       Non-Null Count  Dtype  \n",
      "---  ------       --------------  -----  \n",
      " 0   agressivity  1502 non-null   float64\n",
      " 1   avgHashtag   1502 non-null   float64\n",
      " 2   avgMention   1502 non-null   float64\n",
      " 3   avgUrls      1502 non-null   float64\n",
      " 4   ftweets      1502 non-null   float64\n",
      " 5   nbtweet      1502 non-null   float64\n",
      " 6   ratio        1502 non-null   float64\n",
      " 7   visibility   1502 non-null   float64\n",
      "dtypes: float64(8)\n",
      "memory usage: 94.0 KB\n"
     ]
    }
   ],
   "source": [
    "X.info()"
   ]
  },
  {
   "cell_type": "code",
   "execution_count": 39,
   "metadata": {},
   "outputs": [
    {
     "data": {
      "text/html": [
       "<div>\n",
       "<style scoped>\n",
       "    .dataframe tbody tr th:only-of-type {\n",
       "        vertical-align: middle;\n",
       "    }\n",
       "\n",
       "    .dataframe tbody tr th {\n",
       "        vertical-align: top;\n",
       "    }\n",
       "\n",
       "    .dataframe thead th {\n",
       "        text-align: right;\n",
       "    }\n",
       "</style>\n",
       "<table border=\"1\" class=\"dataframe\">\n",
       "  <thead>\n",
       "    <tr style=\"text-align: right;\">\n",
       "      <th></th>\n",
       "      <th>agressivity</th>\n",
       "      <th>avgHashtag</th>\n",
       "      <th>avgMention</th>\n",
       "      <th>avgUrls</th>\n",
       "      <th>ftweets</th>\n",
       "      <th>nbtweet</th>\n",
       "      <th>ratio</th>\n",
       "      <th>visibility</th>\n",
       "    </tr>\n",
       "  </thead>\n",
       "  <tbody>\n",
       "    <tr>\n",
       "      <th>0</th>\n",
       "      <td>0.000677</td>\n",
       "      <td>2.000000</td>\n",
       "      <td>1.000000</td>\n",
       "      <td>0.000000</td>\n",
       "      <td>0.078948</td>\n",
       "      <td>19241.0</td>\n",
       "      <td>0.171882</td>\n",
       "      <td>0.123571</td>\n",
       "    </tr>\n",
       "    <tr>\n",
       "      <th>1</th>\n",
       "      <td>0.000240</td>\n",
       "      <td>0.333333</td>\n",
       "      <td>0.500000</td>\n",
       "      <td>0.833333</td>\n",
       "      <td>0.084007</td>\n",
       "      <td>73705.0</td>\n",
       "      <td>1.049499</td>\n",
       "      <td>0.034167</td>\n",
       "    </tr>\n",
       "    <tr>\n",
       "      <th>2</th>\n",
       "      <td>0.000976</td>\n",
       "      <td>4.000000</td>\n",
       "      <td>0.000000</td>\n",
       "      <td>0.000000</td>\n",
       "      <td>-1.000000</td>\n",
       "      <td>435.0</td>\n",
       "      <td>0.186207</td>\n",
       "      <td>0.165714</td>\n",
       "    </tr>\n",
       "    <tr>\n",
       "      <th>3</th>\n",
       "      <td>0.004036</td>\n",
       "      <td>1.500000</td>\n",
       "      <td>1.000000</td>\n",
       "      <td>1.000000</td>\n",
       "      <td>1.412596</td>\n",
       "      <td>92.0</td>\n",
       "      <td>0.074627</td>\n",
       "      <td>0.102857</td>\n",
       "    </tr>\n",
       "    <tr>\n",
       "      <th>4</th>\n",
       "      <td>0.004487</td>\n",
       "      <td>2.604167</td>\n",
       "      <td>1.833333</td>\n",
       "      <td>0.458333</td>\n",
       "      <td>0.954148</td>\n",
       "      <td>614.0</td>\n",
       "      <td>0.163793</td>\n",
       "      <td>0.182530</td>\n",
       "    </tr>\n",
       "    <tr>\n",
       "      <th>...</th>\n",
       "      <td>...</td>\n",
       "      <td>...</td>\n",
       "      <td>...</td>\n",
       "      <td>...</td>\n",
       "      <td>...</td>\n",
       "      <td>...</td>\n",
       "      <td>...</td>\n",
       "      <td>...</td>\n",
       "    </tr>\n",
       "    <tr>\n",
       "      <th>1497</th>\n",
       "      <td>0.000976</td>\n",
       "      <td>2.000000</td>\n",
       "      <td>1.000000</td>\n",
       "      <td>0.000000</td>\n",
       "      <td>-1.000000</td>\n",
       "      <td>2074.0</td>\n",
       "      <td>0.206210</td>\n",
       "      <td>0.123571</td>\n",
       "    </tr>\n",
       "    <tr>\n",
       "      <th>1498</th>\n",
       "      <td>0.003024</td>\n",
       "      <td>1.050633</td>\n",
       "      <td>0.227848</td>\n",
       "      <td>0.063291</td>\n",
       "      <td>0.950090</td>\n",
       "      <td>91291.0</td>\n",
       "      <td>0.939153</td>\n",
       "      <td>0.052803</td>\n",
       "    </tr>\n",
       "    <tr>\n",
       "      <th>1499</th>\n",
       "      <td>0.000363</td>\n",
       "      <td>1.333333</td>\n",
       "      <td>0.666667</td>\n",
       "      <td>0.333333</td>\n",
       "      <td>0.127090</td>\n",
       "      <td>35559.0</td>\n",
       "      <td>0.826923</td>\n",
       "      <td>0.082381</td>\n",
       "    </tr>\n",
       "    <tr>\n",
       "      <th>1500</th>\n",
       "      <td>0.000865</td>\n",
       "      <td>2.400000</td>\n",
       "      <td>0.800000</td>\n",
       "      <td>0.000000</td>\n",
       "      <td>0.216198</td>\n",
       "      <td>23551.0</td>\n",
       "      <td>1.367947</td>\n",
       "      <td>0.132000</td>\n",
       "    </tr>\n",
       "    <tr>\n",
       "      <th>1501</th>\n",
       "      <td>0.000350</td>\n",
       "      <td>1.500000</td>\n",
       "      <td>0.200000</td>\n",
       "      <td>0.000000</td>\n",
       "      <td>0.122519</td>\n",
       "      <td>27820.0</td>\n",
       "      <td>0.600515</td>\n",
       "      <td>0.070286</td>\n",
       "    </tr>\n",
       "  </tbody>\n",
       "</table>\n",
       "<p>1502 rows × 8 columns</p>\n",
       "</div>"
      ],
      "text/plain": [
       "      agressivity  avgHashtag  avgMention   avgUrls   ftweets  nbtweet  \\\n",
       "0        0.000677    2.000000    1.000000  0.000000  0.078948  19241.0   \n",
       "1        0.000240    0.333333    0.500000  0.833333  0.084007  73705.0   \n",
       "2        0.000976    4.000000    0.000000  0.000000 -1.000000    435.0   \n",
       "3        0.004036    1.500000    1.000000  1.000000  1.412596     92.0   \n",
       "4        0.004487    2.604167    1.833333  0.458333  0.954148    614.0   \n",
       "...           ...         ...         ...       ...       ...      ...   \n",
       "1497     0.000976    2.000000    1.000000  0.000000 -1.000000   2074.0   \n",
       "1498     0.003024    1.050633    0.227848  0.063291  0.950090  91291.0   \n",
       "1499     0.000363    1.333333    0.666667  0.333333  0.127090  35559.0   \n",
       "1500     0.000865    2.400000    0.800000  0.000000  0.216198  23551.0   \n",
       "1501     0.000350    1.500000    0.200000  0.000000  0.122519  27820.0   \n",
       "\n",
       "         ratio  visibility  \n",
       "0     0.171882    0.123571  \n",
       "1     1.049499    0.034167  \n",
       "2     0.186207    0.165714  \n",
       "3     0.074627    0.102857  \n",
       "4     0.163793    0.182530  \n",
       "...        ...         ...  \n",
       "1497  0.206210    0.123571  \n",
       "1498  0.939153    0.052803  \n",
       "1499  0.826923    0.082381  \n",
       "1500  1.367947    0.132000  \n",
       "1501  0.600515    0.070286  \n",
       "\n",
       "[1502 rows x 8 columns]"
      ]
     },
     "execution_count": 39,
     "metadata": {},
     "output_type": "execute_result"
    }
   ],
   "source": [
    "X"
   ]
  },
  {
   "cell_type": "code",
   "execution_count": 40,
   "metadata": {},
   "outputs": [
    {
     "data": {
      "text/html": [
       "<div>\n",
       "<style scoped>\n",
       "    .dataframe tbody tr th:only-of-type {\n",
       "        vertical-align: middle;\n",
       "    }\n",
       "\n",
       "    .dataframe tbody tr th {\n",
       "        vertical-align: top;\n",
       "    }\n",
       "\n",
       "    .dataframe thead th {\n",
       "        text-align: right;\n",
       "    }\n",
       "</style>\n",
       "<table border=\"1\" class=\"dataframe\">\n",
       "  <thead>\n",
       "    <tr style=\"text-align: right;\">\n",
       "      <th></th>\n",
       "      <th>label</th>\n",
       "    </tr>\n",
       "  </thead>\n",
       "  <tbody>\n",
       "    <tr>\n",
       "      <th>0</th>\n",
       "      <td>-1</td>\n",
       "    </tr>\n",
       "    <tr>\n",
       "      <th>1</th>\n",
       "      <td>-1</td>\n",
       "    </tr>\n",
       "    <tr>\n",
       "      <th>2</th>\n",
       "      <td>-1</td>\n",
       "    </tr>\n",
       "    <tr>\n",
       "      <th>3</th>\n",
       "      <td>1</td>\n",
       "    </tr>\n",
       "    <tr>\n",
       "      <th>4</th>\n",
       "      <td>1</td>\n",
       "    </tr>\n",
       "    <tr>\n",
       "      <th>...</th>\n",
       "      <td>...</td>\n",
       "    </tr>\n",
       "    <tr>\n",
       "      <th>1497</th>\n",
       "      <td>-1</td>\n",
       "    </tr>\n",
       "    <tr>\n",
       "      <th>1498</th>\n",
       "      <td>-1</td>\n",
       "    </tr>\n",
       "    <tr>\n",
       "      <th>1499</th>\n",
       "      <td>-1</td>\n",
       "    </tr>\n",
       "    <tr>\n",
       "      <th>1500</th>\n",
       "      <td>-1</td>\n",
       "    </tr>\n",
       "    <tr>\n",
       "      <th>1501</th>\n",
       "      <td>-1</td>\n",
       "    </tr>\n",
       "  </tbody>\n",
       "</table>\n",
       "<p>1502 rows × 1 columns</p>\n",
       "</div>"
      ],
      "text/plain": [
       "      label\n",
       "0        -1\n",
       "1        -1\n",
       "2        -1\n",
       "3         1\n",
       "4         1\n",
       "...     ...\n",
       "1497     -1\n",
       "1498     -1\n",
       "1499     -1\n",
       "1500     -1\n",
       "1501     -1\n",
       "\n",
       "[1502 rows x 1 columns]"
      ]
     },
     "execution_count": 40,
     "metadata": {},
     "output_type": "execute_result"
    }
   ],
   "source": [
    "pd.DataFrame(y)"
   ]
  },
  {
   "cell_type": "markdown",
   "metadata": {},
   "source": [
    "## Entraînement du modèle"
   ]
  },
  {
   "cell_type": "code",
   "execution_count": 41,
   "metadata": {},
   "outputs": [],
   "source": [
    "X_train, X_test, y_train, y_test = train_test_split(X.to_numpy(), y, test_size=0.3)  # 70% training and 30% test\n",
    "\n",
    "svm = SVC(C=10, kernel='rbf', gamma='scale')"
   ]
  },
  {
   "cell_type": "code",
   "execution_count": 42,
   "metadata": {},
   "outputs": [],
   "source": [
    "\n",
    "# Train the model using the training sets\n",
    "svm.fit(X_train, y_train)\n",
    "\n",
    "# Predict the response for test dataset\n",
    "y_pred = svm.predict(X_test)"
   ]
  },
  {
   "cell_type": "markdown",
   "metadata": {},
   "source": [
    "## Évaluation de la précision"
   ]
  },
  {
   "cell_type": "code",
   "execution_count": 43,
   "metadata": {},
   "outputs": [
    {
     "name": "stdout",
     "output_type": "stream",
     "text": [
      "Accuracy: 97.78270509977827%\n"
     ]
    }
   ],
   "source": [
    "# Model Accuracy: how often is the classifier correct?\n",
    "print(f\"Accuracy: {accuracy_score(y_test, y_pred)*100}%\")"
   ]
  },
  {
   "cell_type": "code",
   "execution_count": 44,
   "metadata": {},
   "outputs": [
    {
     "data": {
      "image/png": "[encoded data removed]",
      "text/plain": [
       "<Figure size 800x600 with 2 Axes>"
      ]
     },
     "metadata": {},
     "output_type": "display_data"
    }
   ],
   "source": [
    "matrix = confusion_matrix(y_test, y_pred)\n",
    "\n",
    "plt.figure(figsize=(8, 6))\n",
    "s = sns.heatmap(matrix, annot=True, \n",
    "            fmt='d', cmap='Blues', \n",
    "            annot_kws={\"size\": 16}, \n",
    "            xticklabels=['Non suspects', 'Suspects'], \n",
    "            yticklabels=['Non suspects', 'Suspects'])\n",
    "plt.xlabel('Label prédit')\n",
    "plt.ylabel('Label réel')\n",
    "plt.title('Confusion Matrix')\n",
    "plt.show()"
   ]
  }
 ],
 "metadata": {
  "kernelspec": {
   "display_name": "test",
   "language": "python",
   "name": "python3"
  },
  "language_info": {
   "codemirror_mode": {
    "name": "ipython",
    "version": 3
   },
   "file_extension": ".py",
   "mimetype": "text/x-python",
   "name": "python",
   "nbconvert_exporter": "python",
   "pygments_lexer": "ipython3",
   "version": "3.12.3"
  }
 },
 "nbformat": 4,
 "nbformat_minor": 2
}
