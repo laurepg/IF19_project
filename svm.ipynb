{
 "cells": [
  {
   "cell_type": "code",
   "execution_count": 1,
   "metadata": {},
   "outputs": [],
   "source": [
    "import pandas as pd\n",
    "import numpy as np\n",
    "from pymongo import MongoClient\n",
    "\n",
    "from sklearn.preprocessing  import StandardScaler\n",
    "from sklearn.model_selection import train_test_split\n",
    "from sklearn.svm import SVC\n",
    "from sklearn.metrics import accuracy_score, confusion_matrix"
   ]
  },
  {
   "cell_type": "code",
   "execution_count": 2,
   "metadata": {},
   "outputs": [
    {
     "name": "stderr",
     "output_type": "stream",
     "text": [
      "/Users/laurepeng/Desktop/COURS/ISI/ISI3 - P24/IF29/Projet/IF29_project/bdd.py:142: UserWarning: Could not infer format, so each element will be parsed individually, falling back to `dateutil`. To ensure parsing is consistent and as-expected, please specify a format.\n",
      "  df['created_at'] = pd.to_datetime(df['created_at'])\n",
      "/Users/laurepeng/Desktop/COURS/ISI/ISI3 - P24/IF29/Projet/IF29_project/bdd.py:143: UserWarning: Could not infer format, so each element will be parsed individually, falling back to `dateutil`. To ensure parsing is consistent and as-expected, please specify a format.\n",
      "  df['tweet_created_at'] = pd.to_datetime(df['tweet_created_at'])\n"
     ]
    }
   ],
   "source": [
    "from bdd import ConnexionMongoDB\n",
    "\n",
    "conn = ConnexionMongoDB()\n",
    "data = conn.labelsWithUserData()"
   ]
  },
  {
   "cell_type": "code",
   "execution_count": 3,
   "metadata": {},
   "outputs": [
    {
     "name": "stdout",
     "output_type": "stream",
     "text": [
      "Features (X):\n",
      "      friends_count  default_profile_image  favourites_count    created_at  \\\n",
      "0              2393                      0              2878  1.256942e+09   \n",
      "1              1697                      0              1116  1.316414e+09   \n",
      "2               290                      0               115  1.383883e+09   \n",
      "3                67                      0               216  1.519296e+09   \n",
      "4                85                      0              1025  1.523732e+09   \n",
      "...             ...                    ...               ...           ...   \n",
      "1497           1256                      0               355  1.274043e+09   \n",
      "1498           1881                      0            115277  1.378177e+09   \n",
      "1499            208                      0               497  1.311865e+09   \n",
      "1500           3330                      0             23650  1.303559e+09   \n",
      "1501           1552                      0               888  1.234093e+09   \n",
      "\n",
      "      verified  url  statuses_count  followers_count  name  location  \\\n",
      "0            0    0           19120              410     0         1   \n",
      "1            0    1           73622             1778     1         1   \n",
      "2            0    1             435               54     0         1   \n",
      "3            0    0              82                5     0         1   \n",
      "4            0    0             509               13     0         0   \n",
      "...        ...  ...             ...              ...   ...       ...   \n",
      "1497         0    0            2074              259     1         1   \n",
      "1498         0    1           91022             1769     0         1   \n",
      "1499         0    0           35548              172     0         0   \n",
      "1500         0    0           23502             4554     0         1   \n",
      "1501         0    0           27764              930     0         1   \n",
      "\n",
      "      tweet_created_at  \n",
      "0         1.528984e+09  \n",
      "1         1.528975e+09  \n",
      "2         1.529069e+09  \n",
      "3         1.529089e+09  \n",
      "4         1.529073e+09  \n",
      "...                ...  \n",
      "1497      1.529227e+09  \n",
      "1498      1.528951e+09  \n",
      "1499      1.529093e+09  \n",
      "1500      1.529074e+09  \n",
      "1501      1.528961e+09  \n",
      "\n",
      "[1502 rows x 11 columns]\n",
      "\n",
      "Target (y):\n",
      "0      -1\n",
      "1      -1\n",
      "2      -1\n",
      "3       1\n",
      "4       1\n",
      "       ..\n",
      "1497   -1\n",
      "1498   -1\n",
      "1499   -1\n",
      "1500   -1\n",
      "1501   -1\n",
      "Name: label, Length: 1502, dtype: int64\n"
     ]
    }
   ],
   "source": [
    "X = data.drop('label', axis=1)  # Features\n",
    "y = data['label']  # Target variable\n",
    "\n",
    "# Print features and target variables to verify\n",
    "print(\"Features (X):\")\n",
    "print(X)\n",
    "print(\"\\nTarget (y):\")\n",
    "print(y)"
   ]
  },
  {
   "cell_type": "code",
   "execution_count": 22,
   "metadata": {},
   "outputs": [],
   "source": [
    "X_train, X_test, y_train, y_test = train_test_split(X, y, test_size=0.3)  # 70% training and 30% test\n",
    "\n",
    "svm = SVC(C=10, decision_function_shape='ovr', kernel='rbf')\n",
    "\n",
    "# Train the model using the training sets\n",
    "svm.fit(X_train, y_train)\n",
    "\n",
    "# Predict the response for test dataset\n",
    "y_pred = svm.predict(X_test)"
   ]
  },
  {
   "cell_type": "code",
   "execution_count": 23,
   "metadata": {},
   "outputs": [
    {
     "name": "stdout",
     "output_type": "stream",
     "text": [
      "Accuracy: 0.9733924611973392\n"
     ]
    }
   ],
   "source": [
    "# Model Accuracy: how often is the classifier correct?\n",
    "print(\"Accuracy:\", accuracy_score(y_test, y_pred))"
   ]
  },
  {
   "cell_type": "code",
   "execution_count": 24,
   "metadata": {},
   "outputs": [
    {
     "data": {
      "text/plain": [
       "array([[439,   0],\n",
       "       [ 12,   0]])"
      ]
     },
     "execution_count": 24,
     "metadata": {},
     "output_type": "execute_result"
    }
   ],
   "source": [
    "matrix = confusion_matrix(y_test, y_pred)\n",
    "matrix"
   ]
  },
  {
   "cell_type": "code",
   "execution_count": 25,
   "metadata": {},
   "outputs": [
    {
     "data": {
      "image/png": "[encoded data removed]",
      "text/plain": [
       "<Figure size 800x600 with 2 Axes>"
      ]
     },
     "metadata": {},
     "output_type": "display_data"
    }
   ],
   "source": [
    "from matplotlib import pyplot as plt\n",
    "import seaborn as sns\n",
    "\n",
    "plt.figure(figsize=(8, 6))\n",
    "sns.heatmap(matrix, annot=True, fmt='d', cmap='Blues', annot_kws={\"size\": 16})\n",
    "plt.xlabel('Predicted Label')\n",
    "plt.ylabel('True Label')\n",
    "plt.title('Confusion Matrix')\n",
    "plt.show()"
   ]
  },
  {
   "cell_type": "code",
   "execution_count": 9,
   "metadata": {},
   "outputs": [],
   "source": [
    "# test sur bdd userTweets\n",
    "from bdd import ConnexionMongoDB\n",
    "\n",
    "conn2 = ConnexionMongoDB()\n",
    "data2 = conn2.userTweets(2500)"
   ]
  }
 ],
 "metadata": {
  "kernelspec": {
   "display_name": "test",
   "language": "python",
   "name": "python3"
  },
  "language_info": {
   "codemirror_mode": {
    "name": "ipython",
    "version": 3
   },
   "file_extension": ".py",
   "mimetype": "text/x-python",
   "name": "python",
   "nbconvert_exporter": "python",
   "pygments_lexer": "ipython3",
   "version": "3.12.3"
  }
 },
 "nbformat": 4,
 "nbformat_minor": 2
}
